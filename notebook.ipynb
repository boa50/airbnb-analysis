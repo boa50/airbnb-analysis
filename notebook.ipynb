{
 "cells": [
  {
   "cell_type": "markdown",
   "id": "7b3a32fb-5c06-439e-9282-c7328a53e9ec",
   "metadata": {},
   "source": [
    "### Importing the libraries"
   ]
  },
  {
   "cell_type": "code",
   "execution_count": 2,
   "id": "470b2ff5-15c2-417b-9399-4b9f86fbcd94",
   "metadata": {},
   "outputs": [],
   "source": [
    "import numpy as np\n",
    "import pandas as pd\n",
    "from matplotlib import pyplot as plt\n",
    "%matplotlib inline"
   ]
  },
  {
   "cell_type": "markdown",
   "id": "8471794a-8737-455b-894a-cddd8e90f54a",
   "metadata": {},
   "source": [
    "### Dataset first impressions"
   ]
  },
  {
   "cell_type": "code",
   "execution_count": 7,
   "id": "85a5650a-8f3f-4a3e-afec-48deb04b34db",
   "metadata": {},
   "outputs": [],
   "source": [
    "mlsm = pd.read_csv('dataset/melbourne/listings_small.csv')"
   ]
  },
  {
   "cell_type": "code",
   "execution_count": 9,
   "id": "474b0e21-07c6-4117-9557-f9178587505e",
   "metadata": {},
   "outputs": [],
   "source": [
    "mlfull = pd.read_csv('dataset/melbourne/listings.csv')"
   ]
  },
  {
   "cell_type": "code",
   "execution_count": 12,
   "id": "e5282c35-1158-4dd6-8862-40ed2e26f882",
   "metadata": {},
   "outputs": [],
   "source": [
    "mel_cal = pd.read_csv('dataset/melbourne/calendar.csv')"
   ]
  },
  {
   "cell_type": "code",
   "execution_count": 18,
   "id": "8f580747-410a-41d6-9130-4e0f71a41dde",
   "metadata": {},
   "outputs": [],
   "source": [
    "mel_rev_sm = pd.read_csv('dataset/melbourne/reviews_small.csv')"
   ]
  },
  {
   "cell_type": "code",
   "execution_count": 29,
   "id": "146f7f58-1eb7-43bb-af1c-113d5d30c9ee",
   "metadata": {},
   "outputs": [
    {
     "data": {
      "text/html": [
       "<div>\n",
       "<style scoped>\n",
       "    .dataframe tbody tr th:only-of-type {\n",
       "        vertical-align: middle;\n",
       "    }\n",
       "\n",
       "    .dataframe tbody tr th {\n",
       "        vertical-align: top;\n",
       "    }\n",
       "\n",
       "    .dataframe thead th {\n",
       "        text-align: right;\n",
       "    }\n",
       "</style>\n",
       "<table border=\"1\" class=\"dataframe\">\n",
       "  <thead>\n",
       "    <tr style=\"text-align: right;\">\n",
       "      <th></th>\n",
       "      <th>listing_id</th>\n",
       "      <th>date</th>\n",
       "      <th>available</th>\n",
       "      <th>price</th>\n",
       "      <th>adjusted_price</th>\n",
       "      <th>minimum_nights</th>\n",
       "      <th>maximum_nights</th>\n",
       "    </tr>\n",
       "  </thead>\n",
       "  <tbody>\n",
       "    <tr>\n",
       "      <th>0</th>\n",
       "      <td>534083</td>\n",
       "      <td>2021-04-12</td>\n",
       "      <td>f</td>\n",
       "      <td>$99.00</td>\n",
       "      <td>$99.00</td>\n",
       "      <td>1.0</td>\n",
       "      <td>1125.0</td>\n",
       "    </tr>\n",
       "    <tr>\n",
       "      <th>1</th>\n",
       "      <td>66754</td>\n",
       "      <td>2021-04-11</td>\n",
       "      <td>f</td>\n",
       "      <td>$94.00</td>\n",
       "      <td>$94.00</td>\n",
       "      <td>3.0</td>\n",
       "      <td>14.0</td>\n",
       "    </tr>\n",
       "    <tr>\n",
       "      <th>2</th>\n",
       "      <td>66754</td>\n",
       "      <td>2021-04-12</td>\n",
       "      <td>f</td>\n",
       "      <td>$94.00</td>\n",
       "      <td>$94.00</td>\n",
       "      <td>3.0</td>\n",
       "      <td>14.0</td>\n",
       "    </tr>\n",
       "    <tr>\n",
       "      <th>3</th>\n",
       "      <td>66754</td>\n",
       "      <td>2021-04-13</td>\n",
       "      <td>f</td>\n",
       "      <td>$94.00</td>\n",
       "      <td>$94.00</td>\n",
       "      <td>3.0</td>\n",
       "      <td>14.0</td>\n",
       "    </tr>\n",
       "    <tr>\n",
       "      <th>4</th>\n",
       "      <td>66754</td>\n",
       "      <td>2021-04-14</td>\n",
       "      <td>f</td>\n",
       "      <td>$94.00</td>\n",
       "      <td>$94.00</td>\n",
       "      <td>3.0</td>\n",
       "      <td>14.0</td>\n",
       "    </tr>\n",
       "  </tbody>\n",
       "</table>\n",
       "</div>"
      ],
      "text/plain": [
       "   listing_id        date available   price adjusted_price  minimum_nights  \\\n",
       "0      534083  2021-04-12         f  $99.00         $99.00             1.0   \n",
       "1       66754  2021-04-11         f  $94.00         $94.00             3.0   \n",
       "2       66754  2021-04-12         f  $94.00         $94.00             3.0   \n",
       "3       66754  2021-04-13         f  $94.00         $94.00             3.0   \n",
       "4       66754  2021-04-14         f  $94.00         $94.00             3.0   \n",
       "\n",
       "   maximum_nights  \n",
       "0          1125.0  \n",
       "1            14.0  \n",
       "2            14.0  \n",
       "3            14.0  \n",
       "4            14.0  "
      ]
     },
     "execution_count": 29,
     "metadata": {},
     "output_type": "execute_result"
    }
   ],
   "source": [
    "mel_cal.head()"
   ]
  },
  {
   "cell_type": "code",
   "execution_count": 37,
   "id": "6c9d667d-fff5-41f5-9b26-bf488289bf02",
   "metadata": {},
   "outputs": [
    {
     "data": {
      "text/plain": [
       "f    286\n",
       "t     79\n",
       "Name: available, dtype: int64"
      ]
     },
     "execution_count": 37,
     "metadata": {},
     "output_type": "execute_result"
    }
   ],
   "source": [
    "mel_cal[mel_cal['listing_id'] == 534083]['available'].value_counts()"
   ]
  }
 ],
 "metadata": {
  "kernelspec": {
   "display_name": "Python 3 (ipykernel)",
   "language": "python",
   "name": "python3"
  },
  "language_info": {
   "codemirror_mode": {
    "name": "ipython",
    "version": 3
   },
   "file_extension": ".py",
   "mimetype": "text/x-python",
   "name": "python",
   "nbconvert_exporter": "python",
   "pygments_lexer": "ipython3",
   "version": "3.9.5"
  }
 },
 "nbformat": 4,
 "nbformat_minor": 5
}
